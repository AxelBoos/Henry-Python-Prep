{
 "cells": [
  {
   "attachments": {},
   "cell_type": "markdown",
   "metadata": {},
   "source": [
    "## Flujos de Control"
   ]
  },
  {
   "attachments": {},
   "cell_type": "markdown",
   "metadata": {},
   "source": [
    "1) Crear una variable que contenga un elemento del conjunto de números enteros y luego imprimir por pantalla si es mayor o menor a cero"
   ]
  },
  {
   "cell_type": "code",
   "execution_count": 5,
   "metadata": {},
   "outputs": [
    {
     "name": "stdout",
     "output_type": "stream",
     "text": [
      "Es mayor a 0\n"
     ]
    }
   ],
   "source": [
    "var_1 = 4\n",
    "if (var_1 < 0):\n",
    "    print(\"Es menor a 0\")\n",
    "elif (var_1 > 0):\n",
    "    print(\"Es mayor a 0\")\n",
    "else:\n",
    "    print(\"Es igual a 0\")"
   ]
  },
  {
   "attachments": {},
   "cell_type": "markdown",
   "metadata": {},
   "source": [
    "2) Crear dos variables y un condicional que informe si son del mismo tipo de dato"
   ]
  },
  {
   "cell_type": "code",
   "execution_count": 7,
   "metadata": {},
   "outputs": [
    {
     "name": "stdout",
     "output_type": "stream",
     "text": [
      "El tipo de dato es igual\n"
     ]
    }
   ],
   "source": [
    "var_1_2 = 4\n",
    "var_2_2 = \"Casa\"\n",
    "if (type(var_1_2) == type(var_2_2)):\n",
    "    print(\"El tipo de dato es igual\")\n",
    "else:\n",
    "    print(\"El tipo de dato es diferente\")"
   ]
  },
  {
   "attachments": {},
   "cell_type": "markdown",
   "metadata": {},
   "source": [
    "3) Para los valores enteros del 1 al 20, imprimir por pantalla si es par o impar"
   ]
  },
  {
   "cell_type": "code",
   "execution_count": 8,
   "metadata": {},
   "outputs": [
    {
     "name": "stdout",
     "output_type": "stream",
     "text": [
      "1  es impar.\n",
      "2  es par.\n",
      "3  es impar.\n",
      "4  es par.\n",
      "5  es impar.\n",
      "6  es par.\n",
      "7  es impar.\n",
      "8  es par.\n",
      "9  es impar.\n",
      "10  es par.\n",
      "11  es impar.\n",
      "12  es par.\n",
      "13  es impar.\n",
      "14  es par.\n",
      "15  es impar.\n",
      "16  es par.\n",
      "17  es impar.\n",
      "18  es par.\n",
      "19  es impar.\n",
      "20  es par.\n"
     ]
    }
   ],
   "source": [
    "num = 1\n",
    "tope = 20\n",
    "while (num <= 20):\n",
    "    if (num % 2 == 0):\n",
    "        print(num, \" es par.\")\n",
    "    else:\n",
    "        print(num, \" es impar.\")\n",
    "    num = num + 1"
   ]
  },
  {
   "attachments": {},
   "cell_type": "markdown",
   "metadata": {},
   "source": [
    "4) En un ciclo for mostrar para los valores entre 0 y 5 el resultado de elevarlo a la potencia igual a 3"
   ]
  },
  {
   "cell_type": "code",
   "execution_count": 9,
   "metadata": {},
   "outputs": [
    {
     "name": "stdout",
     "output_type": "stream",
     "text": [
      "0 Elevado a  3  es igual a  0\n",
      "1 Elevado a  3  es igual a  1\n",
      "2 Elevado a  3  es igual a  8\n",
      "3 Elevado a  3  es igual a  27\n",
      "4 Elevado a  3  es igual a  64\n",
      "5 Elevado a  3  es igual a  125\n"
     ]
    }
   ],
   "source": [
    "nums_4 = [0,1,2,3,4,5]\n",
    "potencia = 3\n",
    "for i in nums_4:\n",
    "    resultado_4 = (nums_4[i]) ** potencia\n",
    "    print(nums_4[i], \"Elevado a \", potencia, \" es igual a \", resultado_4)"
   ]
  },
  {
   "attachments": {},
   "cell_type": "markdown",
   "metadata": {},
   "source": [
    "5) Crear una variable que contenga un número entero y realizar un ciclo for la misma cantidad de ciclos"
   ]
  },
  {
   "cell_type": "code",
   "execution_count": 13,
   "metadata": {},
   "outputs": [
    {
     "name": "stdout",
     "output_type": "stream",
     "text": [
      "1\n",
      "2\n",
      "3\n",
      "4\n",
      "5\n",
      "6\n"
     ]
    }
   ],
   "source": [
    "var_5 = 6\n",
    "for i in range(var_5):\n",
    "    print(i+1)"
   ]
  },
  {
   "attachments": {},
   "cell_type": "markdown",
   "metadata": {},
   "source": [
    "6) Utilizar un ciclo while para realizar el factorial de un número guardado en una variable, sólo si la variable contiene un número entero mayor a 0"
   ]
  },
  {
   "cell_type": "code",
   "execution_count": 22,
   "metadata": {},
   "outputs": [
    {
     "name": "stdout",
     "output_type": "stream",
     "text": [
      "El factorial es:  120\n"
     ]
    }
   ],
   "source": [
    "var_6 = 5\n",
    "if (type(var_6) == int):\n",
    "    if (var_6 > 0):\n",
    "        factorial = var_6\n",
    "        while (var_6 > 2):\n",
    "            var_6 = var_6 - 1\n",
    "            factorial = factorial * var_6\n",
    "        print(\"El factorial es: \", factorial)\n",
    "    else:\n",
    "        print(\"El num entero no es mayor que 0.\")\n",
    "else:\n",
    "    print(\"El valor no es un entero.\")"
   ]
  },
  {
   "attachments": {},
   "cell_type": "markdown",
   "metadata": {},
   "source": [
    "7) Crear un ciclo for dentro de un ciclo while"
   ]
  },
  {
   "cell_type": "code",
   "execution_count": 4,
   "metadata": {},
   "outputs": [
    {
     "name": "stdout",
     "output_type": "stream",
     "text": [
      "0\n",
      "1\n",
      "2\n",
      "3\n",
      "4\n",
      "5\n",
      "6\n",
      "7\n",
      "8\n",
      "9\n",
      "----\n",
      "10\n",
      "11\n",
      "12\n",
      "13\n",
      "14\n",
      "15\n",
      "16\n",
      "17\n",
      "18\n",
      "19\n",
      "----\n"
     ]
    }
   ],
   "source": [
    "x = 2\n",
    "contador = 0\n",
    "decena = 10\n",
    "while (x > 0):\n",
    "    for i in range(decena):\n",
    "        print(contador)\n",
    "        contador = contador + 1\n",
    "    print(\"----\")\n",
    "    x = x - 1\n"
   ]
  },
  {
   "attachments": {},
   "cell_type": "markdown",
   "metadata": {},
   "source": [
    "8) Crear un ciclo while dentro de un ciclo for"
   ]
  },
  {
   "cell_type": "code",
   "execution_count": 6,
   "metadata": {},
   "outputs": [
    {
     "name": "stdout",
     "output_type": "stream",
     "text": [
      "10\n",
      "9\n",
      "8\n",
      "7\n",
      "6\n",
      "5\n",
      "4\n",
      "3\n",
      "2\n",
      "1\n",
      "0\n",
      "----\n",
      "20\n",
      "18\n",
      "16\n",
      "14\n",
      "12\n",
      "10\n",
      "8\n",
      "6\n",
      "4\n",
      "2\n",
      "0\n",
      "----\n"
     ]
    }
   ],
   "source": [
    "largo = 3\n",
    "\n",
    "for i in range(1,largo):\n",
    "    temporizador = 10\n",
    "    while (temporizador >= 0):\n",
    "        resultado_8 = i * temporizador\n",
    "        print(resultado_8)\n",
    "        temporizador = temporizador - 1\n",
    "    print(\"----\")\n"
   ]
  },
  {
   "attachments": {},
   "cell_type": "markdown",
   "metadata": {},
   "source": [
    "9) Imprimir los números primos existentes entre 0 y 30"
   ]
  },
  {
   "cell_type": "code",
   "execution_count": 14,
   "metadata": {},
   "outputs": [
    {
     "name": "stdout",
     "output_type": "stream",
     "text": [
      "2  es primo.\n",
      "3  es primo.\n",
      "5  es primo.\n",
      "7  es primo.\n",
      "11  es primo.\n",
      "13  es primo.\n",
      "17  es primo.\n",
      "19  es primo.\n",
      "23  es primo.\n",
      "29  es primo.\n",
      "Ciclos sin Break:  464\n"
     ]
    }
   ],
   "source": [
    "numeros = 0\n",
    "rango = 30\n",
    "contaodr_sin_break = 0\n",
    "while(numeros <= rango):\n",
    "    if (numeros == 0) or (numeros  == 1):\n",
    "        numeros = numeros + 1\n",
    "    else:\n",
    "        i = 2\n",
    "        contador = 0\n",
    "        numero_auxiliar = numeros\n",
    "        for i in range(numeros):\n",
    "            if (numeros % numero_auxiliar == 0):\n",
    "                contador = contador + 1\n",
    "                numero_auxiliar = numero_auxiliar - 1\n",
    "            else:\n",
    "                numero_auxiliar = numero_auxiliar - 1\n",
    "            contaodr_sin_break = contaodr_sin_break + 1\n",
    "        if (contador == 2):\n",
    "            print(numeros, \" es primo.\")\n",
    "            numeros = numeros + 1\n",
    "        else:\n",
    "            numeros = numeros + 1\n",
    "print(\"Ciclos sin Break: \", contaodr_sin_break)"
   ]
  },
  {
   "attachments": {},
   "cell_type": "markdown",
   "metadata": {},
   "source": [
    "10) ¿Se puede mejorar el proceso del punto 9? Utilizar las sentencias break y/ó continue para tal fin"
   ]
  },
  {
   "cell_type": "code",
   "execution_count": 16,
   "metadata": {},
   "outputs": [
    {
     "name": "stdout",
     "output_type": "stream",
     "text": [
      "2  es primo.\n",
      "3  es primo.\n",
      "5  es primo.\n",
      "7  es primo.\n",
      "11  es primo.\n",
      "13  es primo.\n",
      "17  es primo.\n",
      "19  es primo.\n",
      "23  es primo.\n",
      "29  es primo.\n",
      "Ciclos con Break:  396\n",
      "Se optimizo un  0.853448275862069 % con la sentencia Break\n"
     ]
    }
   ],
   "source": [
    "numeros = 0\n",
    "rango = 30\n",
    "contador_con_break = 0\n",
    "while(numeros <= rango):\n",
    "    if (numeros == 0) or (numeros  == 1):\n",
    "        numeros = numeros + 1\n",
    "    else:\n",
    "        i = 2\n",
    "        contador = 0\n",
    "        numero_auxiliar = numeros\n",
    "        for i in range(numeros):\n",
    "            if (numeros % numero_auxiliar == 0):\n",
    "                contador = contador + 1\n",
    "                numero_auxiliar = numero_auxiliar - 1\n",
    "                if (contador > 2):\n",
    "                    break\n",
    "                else:\n",
    "                    None\n",
    "            else:\n",
    "                numero_auxiliar = numero_auxiliar - 1\n",
    "            contador_con_break = contador_con_break + 1\n",
    "        if (contador == 2):\n",
    "            print(numeros, \" es primo.\")\n",
    "            numeros = numeros + 1\n",
    "        else:\n",
    "            numeros = numeros + 1\n",
    "print(\"Ciclos con Break: \", contador_con_break)\n"
   ]
  },
  {
   "attachments": {},
   "cell_type": "markdown",
   "metadata": {},
   "source": [
    "11) En los puntos 9 y 10, se diseño un código que encuentra números primos y además se lo optimizó. ¿Es posible saber en qué medida se optimizó?"
   ]
  },
  {
   "cell_type": "code",
   "execution_count": 17,
   "metadata": {},
   "outputs": [
    {
     "name": "stdout",
     "output_type": "stream",
     "text": [
      "Ciclos sin sentencia Break:  464\n",
      "Ciclos con sentencia Break:  396\n",
      "Se optimizo un  0.853448275862069 % con la sentencia Break\n"
     ]
    }
   ],
   "source": [
    "print(\"Ciclos sin sentencia Break: \", contaodr_sin_break)\n",
    "print(\"Ciclos con sentencia Break: \", contador_con_break)\n",
    "print(\"Se optimizo un \", (contador_con_break / contaodr_sin_break), \"% con la sentencia Break\")"
   ]
  },
  {
   "attachments": {},
   "cell_type": "markdown",
   "metadata": {},
   "source": [
    "12) Aplicando continue, armar un ciclo while que solo imprima los valores divisibles por 12, dentro del rango de números de 100 a 300"
   ]
  },
  {
   "cell_type": "code",
   "execution_count": 20,
   "metadata": {},
   "outputs": [
    {
     "name": "stdout",
     "output_type": "stream",
     "text": [
      "108\n",
      "120\n",
      "132\n",
      "144\n",
      "156\n",
      "168\n",
      "180\n",
      "192\n",
      "204\n",
      "216\n",
      "228\n",
      "240\n",
      "252\n",
      "264\n",
      "276\n",
      "288\n",
      "300\n"
     ]
    }
   ],
   "source": [
    "numero_12 = 12\n",
    "inicio = 100\n",
    "tope = 300\n",
    "while (inicio <= tope):\n",
    "    if (inicio % numero_12 == 0):\n",
    "        print(inicio)\n",
    "        inicio = inicio + 1\n",
    "        continue\n",
    "    else:\n",
    "        inicio = inicio + 1"
   ]
  },
  {
   "attachments": {},
   "cell_type": "markdown",
   "metadata": {},
   "source": [
    "13) Utilizar la función **input()** que permite hacer ingresos por teclado, para encontrar números primos y dar la opción al usario de buscar el siguiente"
   ]
  },
  {
   "cell_type": "code",
   "execution_count": 2,
   "metadata": {},
   "outputs": [
    {
     "name": "stdout",
     "output_type": "stream",
     "text": [
      "2  es primo.\n",
      "Presione 1 para para buscar el siguiente numero primo: \n",
      "3  es primo.\n",
      "Presione 1 para para buscar el siguiente numero primo: \n",
      "5  es primo.\n",
      "Presione 1 para para buscar el siguiente numero primo: \n",
      "7  es primo.\n",
      "Presione 1 para para buscar el siguiente numero primo: \n",
      "11  es primo.\n",
      "Presione 1 para para buscar el siguiente numero primo: \n",
      "13  es primo.\n",
      "Presione 1 para para buscar el siguiente numero primo: \n"
     ]
    }
   ],
   "source": [
    "seguir = 1\n",
    "numero_13 = 2\n",
    "while (seguir == 1):\n",
    "    contar = 0\n",
    "    numero_auxiliar_13 = numero_13\n",
    "    for i in range(numero_13):\n",
    "        if (numero_13 % numero_auxiliar_13 == 0):\n",
    "            contar = contar + 1\n",
    "            numero_auxiliar_13 = numero_auxiliar_13 - 1\n",
    "        else:\n",
    "            numero_auxiliar_13 = numero_auxiliar_13 - 1\n",
    "    if (contar == 2):\n",
    "        print(numero_13, \" es primo.\")\n",
    "        seguir = int(input(print(\"Presione 1 para para buscar el siguiente numero primo: \")))\n",
    "        numero_13 = numero_13 + 1\n",
    "    else:\n",
    "        numero_13 = numero_13 + 1"
   ]
  },
  {
   "attachments": {},
   "cell_type": "markdown",
   "metadata": {},
   "source": [
    "14) Crear un ciclo while que encuentre dentro del rango de 100 a 300 el primer número divisible por 3 y además múltiplo de 6"
   ]
  },
  {
   "cell_type": "code",
   "execution_count": 4,
   "metadata": {},
   "outputs": [
    {
     "name": "stdout",
     "output_type": "stream",
     "text": [
      "El primer numero es:  102\n"
     ]
    }
   ],
   "source": [
    "inicio_14 = 100\n",
    "rango_14 = 300\n",
    "while (inicio_14 <= rango_14):\n",
    "    if (inicio_14 % 6 == 0):\n",
    "        print(\"El primer numero es: \", inicio_14)\n",
    "        break\n",
    "    inicio_14 = inicio_14 + 1\n"
   ]
  }
 ],
 "metadata": {
  "interpreter": {
   "hash": "c85384e4cb51c8b72350f3a8712cc8351fdc3955e32a27f9b60c6242ab125f01"
  },
  "kernelspec": {
   "display_name": "Python 3 (ipykernel)",
   "language": "python",
   "name": "python3"
  },
  "language_info": {
   "codemirror_mode": {
    "name": "ipython",
    "version": 3
   },
   "file_extension": ".py",
   "mimetype": "text/x-python",
   "name": "python",
   "nbconvert_exporter": "python",
   "pygments_lexer": "ipython3",
   "version": "3.12.2"
  }
 },
 "nbformat": 4,
 "nbformat_minor": 4
}
