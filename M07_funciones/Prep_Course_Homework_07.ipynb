{
 "cells": [
  {
   "attachments": {},
   "cell_type": "markdown",
   "metadata": {},
   "source": [
    "## Funciones"
   ]
  },
  {
   "attachments": {},
   "cell_type": "markdown",
   "metadata": {},
   "source": [
    "1) Crear una función que reciba un número como parámetro y devuelva True si es primo y False si no lo es"
   ]
  },
  {
   "cell_type": "code",
   "execution_count": 1,
   "metadata": {},
   "outputs": [],
   "source": [
    "def es_primo(numero):\n",
    "    if numero <= 1:\n",
    "        return True\n",
    "    elif numero <= 2:\n",
    "        return True\n",
    "    elif numero <= 3:\n",
    "        return True\n",
    "    elif (numero % 2 == 0) or (numero % 3 == 0):\n",
    "        return False\n",
    "    else:\n",
    "        return True"
   ]
  },
  {
   "cell_type": "code",
   "execution_count": 5,
   "metadata": {},
   "outputs": [
    {
     "data": {
      "text/plain": [
       "True"
      ]
     },
     "execution_count": 5,
     "metadata": {},
     "output_type": "execute_result"
    }
   ],
   "source": [
    "es_primo(11)"
   ]
  },
  {
   "attachments": {},
   "cell_type": "markdown",
   "metadata": {},
   "source": [
    "2) Utilizando la función del punto 1, realizar otra función que reciba de parámetro una lista de números y devuelva sólo aquellos que son primos en otra lista"
   ]
  },
  {
   "cell_type": "code",
   "execution_count": 2,
   "metadata": {},
   "outputs": [],
   "source": [
    "def primos_lista(lista):\n",
    "    nueva_lista = []\n",
    "    for i in range(len(lista)):\n",
    "        if (es_primo(lista[i]) == True):\n",
    "            nueva_lista.append(lista[i])\n",
    "        else:\n",
    "            None\n",
    "    return(nueva_lista)"
   ]
  },
  {
   "cell_type": "code",
   "execution_count": 6,
   "metadata": {},
   "outputs": [
    {
     "data": {
      "text/plain": [
       "[1, 2, 3, 5, 7, 11, 13, 17, 19]"
      ]
     },
     "execution_count": 6,
     "metadata": {},
     "output_type": "execute_result"
    }
   ],
   "source": [
    "lista_numeros = [1,2,3,4,5,6,7,8,9,10,11,12,13,14,15,16,17,18,19,20]\n",
    "primos_lista(lista_numeros)"
   ]
  },
  {
   "attachments": {},
   "cell_type": "markdown",
   "metadata": {},
   "source": [
    "3) Crear una función que al recibir una lista de números, devuelva el que más se repite y cuántas veces lo hace. Si hay más de un \"más repetido\", que devuelva cualquiera"
   ]
  },
  {
   "cell_type": "code",
   "execution_count": 11,
   "metadata": {},
   "outputs": [],
   "source": [
    "def valor_modal(lista):\n",
    "    lista_unicos = []\n",
    "    lista_repetidos = []\n",
    "    if (len(lista) == 0):\n",
    "        return None\n",
    "    for i in lista:\n",
    "        if i in lista_unicos:\n",
    "            pos = lista_unicos.index(i)\n",
    "            lista_repetidos[pos] = lista_repetidos[pos] + 1\n",
    "        else:\n",
    "            lista_unicos.append(i)\n",
    "            lista_repetidos.append(1)\n",
    "    moda = lista_unicos[0]\n",
    "    maximo = lista_repetidos[0]\n",
    "    for j in range(len(lista_unicos)):\n",
    "        if (lista_repetidos[j]) > maximo:\n",
    "            moda = (lista_unicos[j])\n",
    "            maximo = (lista_repetidos[j])\n",
    "    return moda, maximo"
   ]
  },
  {
   "cell_type": "code",
   "execution_count": 13,
   "metadata": {},
   "outputs": [
    {
     "data": {
      "text/plain": [
       "(3, 9)"
      ]
     },
     "execution_count": 13,
     "metadata": {},
     "output_type": "execute_result"
    }
   ],
   "source": [
    "lista_ejemplo = [1,2,3,3,3,3,3,3,3,1,5,6,7,5,4,8,9,0,8,7,4,4,3,3,2,1,1,1,5,6,7,8]\n",
    "valor_modal(lista_ejemplo)"
   ]
  },
  {
   "attachments": {},
   "cell_type": "markdown",
   "metadata": {},
   "source": [
    "4) Crear una función que convierta entre grados Celsius, Farenheit y Kelvin<br>\n",
    "Fórmula 1\t: (°C × 9/5) + 32 = °F<br>\n",
    "Fórmula 2\t: °C + 273.15 = °K<br>\n",
    "Debe recibir 3 parámetros: el valor, la medida de orígen y la medida de destino\n"
   ]
  },
  {
   "cell_type": "code",
   "execution_count": 11,
   "metadata": {},
   "outputs": [],
   "source": [
    "def conversor_temperatura(valor, origen, destino):\n",
    "    if (origen == 'c') and (destino == 'f'):\n",
    "        operacion = (valor * (9/5) + 32)\n",
    "    elif (origen == 'c') and (destino == 'k'):\n",
    "        operacion = (valor + 273.15)\n",
    "    #\n",
    "    elif (origen == 'f') and (destino == 'c'):\n",
    "        operacion = ((valor - 32) * 5/9)\n",
    "    elif (origen == 'f') and (destino == 'k'):\n",
    "        celsius = ((valor - 32) * 5/9)\n",
    "        operacion = (celsius + 273.15)\n",
    "    #\n",
    "    elif (origen == 'k') and (destino == 'c'):\n",
    "        operacion = (valor - 273.15)\n",
    "    elif (origen == 'k') and (destino == 'f'):\n",
    "        celsius = (valor - 273.15)\n",
    "        operacion = (celsius * (9/5) + 32)\n",
    "    #\n",
    "    #mensaje = valor,\"º \", origen, \"son :\", operacion,\"º \", destino\n",
    "    #return(mensaje)\n",
    "    return(operacion)\n"
   ]
  },
  {
   "cell_type": "code",
   "execution_count": 12,
   "metadata": {},
   "outputs": [
    {
     "data": {
      "text/plain": [
       "310.15"
      ]
     },
     "execution_count": 12,
     "metadata": {},
     "output_type": "execute_result"
    }
   ],
   "source": [
    "conversor_temperatura(37,'c','k')"
   ]
  },
  {
   "attachments": {},
   "cell_type": "markdown",
   "metadata": {},
   "source": [
    "5) Iterando una lista con los tres valores posibles de temperatura que recibe la función del punto 5, hacer un print para cada combinación de los mismos:"
   ]
  },
  {
   "cell_type": "code",
   "execution_count": null,
   "metadata": {},
   "outputs": [],
   "source": [
    "grados = ['Celsius', 'Kelvin', 'Farenheit']\n",
    "for i in range(len(grados)):\n",
    "    for j in range(len(grados)):\n",
    "        print()"
   ]
  },
  {
   "attachments": {},
   "cell_type": "markdown",
   "metadata": {},
   "source": [
    "6) Armar una función que devuelva el factorial de un número. Tener en cuenta que el usuario puede equivocarse y enviar de parámetro un número no entero o negativo"
   ]
  },
  {
   "cell_type": "code",
   "execution_count": 6,
   "metadata": {},
   "outputs": [],
   "source": [
    "def factorial(numero):\n",
    "    if (numero == float) or (numero < 1):\n",
    "        mensaje = (\"No existe el factorial de \", numero)\n",
    "    else:\n",
    "        operacion = 1\n",
    "        n = numero\n",
    "        for i in range(numero):\n",
    "            operacion = operacion * n\n",
    "            n = n - 1\n",
    "        mensaje = (\"El factorial de \",numero,\" es = \",operacion)\n",
    "    return(mensaje)\n"
   ]
  },
  {
   "cell_type": "code",
   "execution_count": 7,
   "metadata": {},
   "outputs": [
    {
     "data": {
      "text/plain": [
       "('No existe el factorial de ', 0)"
      ]
     },
     "execution_count": 7,
     "metadata": {},
     "output_type": "execute_result"
    }
   ],
   "source": [
    "factorial(0)"
   ]
  }
 ],
 "metadata": {
  "interpreter": {
   "hash": "c85384e4cb51c8b72350f3a8712cc8351fdc3955e32a27f9b60c6242ab125f01"
  },
  "kernelspec": {
   "display_name": "Python 3 (ipykernel)",
   "language": "python",
   "name": "python3"
  },
  "language_info": {
   "codemirror_mode": {
    "name": "ipython",
    "version": 3
   },
   "file_extension": ".py",
   "mimetype": "text/x-python",
   "name": "python",
   "nbconvert_exporter": "python",
   "pygments_lexer": "ipython3",
   "version": "3.12.2"
  }
 },
 "nbformat": 4,
 "nbformat_minor": 4
}
