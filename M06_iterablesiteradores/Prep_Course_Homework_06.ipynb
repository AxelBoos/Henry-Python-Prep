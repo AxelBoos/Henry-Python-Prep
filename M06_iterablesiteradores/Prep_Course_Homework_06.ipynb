{
 "cells": [
  {
   "attachments": {},
   "cell_type": "markdown",
   "metadata": {},
   "source": [
    "## Iteradores e iterables"
   ]
  },
  {
   "attachments": {},
   "cell_type": "markdown",
   "metadata": {},
   "source": [
    "1) A partir de una lista vacía, utilizar un ciclo while para cargar allí números negativos del -15 al -1"
   ]
  },
  {
   "cell_type": "code",
   "execution_count": 2,
   "metadata": {},
   "outputs": [
    {
     "name": "stdout",
     "output_type": "stream",
     "text": [
      "[-15, -14, -13, -12, -11, -10, -9, -8, -7, -6, -5, -4, -3, -2, -1]\n"
     ]
    }
   ],
   "source": [
    "lista_1 = []\n",
    "numero = -15\n",
    "while numero < (0):\n",
    "    lista_1.append(numero)\n",
    "    numero = numero + 1\n",
    "print(lista_1)"
   ]
  },
  {
   "attachments": {},
   "cell_type": "markdown",
   "metadata": {},
   "source": [
    "2) ¿Con un ciclo while sería posible recorrer la lista para imprimir sólo los números pares?"
   ]
  },
  {
   "cell_type": "code",
   "execution_count": 3,
   "metadata": {},
   "outputs": [
    {
     "name": "stdout",
     "output_type": "stream",
     "text": [
      "2\n",
      "4\n",
      "6\n",
      "8\n",
      "10\n",
      "12\n",
      "14\n",
      "16\n",
      "18\n",
      "20\n"
     ]
    }
   ],
   "source": [
    "lista_2 = [1,2,3,4,5,6,7,8,9,10,11,12,13,14,15,16,17,18,19,20]\n",
    "contador = 0\n",
    "while contador < (len(lista_2)):\n",
    "    if (lista_2[contador] % 2 == 0):\n",
    "        es_par = lista_2[contador]\n",
    "        print(es_par)\n",
    "        contador = contador + 1\n",
    "    else:\n",
    "        contador = contador + 1"
   ]
  },
  {
   "attachments": {},
   "cell_type": "markdown",
   "metadata": {},
   "source": [
    "3) Resolver el punto anterior sin utilizar un ciclo while"
   ]
  },
  {
   "cell_type": "code",
   "execution_count": 4,
   "metadata": {},
   "outputs": [
    {
     "name": "stdout",
     "output_type": "stream",
     "text": [
      "2\n",
      "4\n",
      "6\n",
      "8\n",
      "10\n",
      "12\n",
      "14\n",
      "16\n",
      "18\n",
      "20\n"
     ]
    }
   ],
   "source": [
    "contados = 0\n",
    "for i in range(len(lista_2)):\n",
    "    if (lista_2[i] % 2 == 0):\n",
    "        es_par = lista_2[i]\n",
    "        print(es_par)\n",
    "        contador = contador + 1\n",
    "    else:\n",
    "        contador = contador + 1\n",
    "        "
   ]
  },
  {
   "attachments": {},
   "cell_type": "markdown",
   "metadata": {},
   "source": [
    "4) Utilizar el iterable para recorrer sólo los primeros 3 elementos"
   ]
  },
  {
   "cell_type": "code",
   "execution_count": 8,
   "metadata": {},
   "outputs": [
    {
     "name": "stdout",
     "output_type": "stream",
     "text": [
      "-15\n",
      "-14\n",
      "-13\n"
     ]
    }
   ],
   "source": [
    "for i in lista_1[:3]:\n",
    "    print(lista_1[i])"
   ]
  },
  {
   "attachments": {},
   "cell_type": "markdown",
   "metadata": {},
   "source": [
    "5) Utilizar la función **enumerate** para obtener dentro del iterable, tambien el índice al que corresponde el elemento"
   ]
  },
  {
   "cell_type": "code",
   "execution_count": 13,
   "metadata": {},
   "outputs": [
    {
     "name": "stdout",
     "output_type": "stream",
     "text": [
      "0 -15\n",
      "1 -14\n",
      "2 -13\n",
      "3 -12\n",
      "4 -11\n",
      "5 -10\n",
      "6 -9\n",
      "7 -8\n",
      "8 -7\n",
      "9 -6\n",
      "10 -5\n",
      "11 -4\n",
      "12 -3\n",
      "13 -2\n",
      "14 -1\n"
     ]
    }
   ],
   "source": [
    "for i,c in enumerate(lista_1):\n",
    "    print(i,c)"
   ]
  },
  {
   "attachments": {},
   "cell_type": "markdown",
   "metadata": {},
   "source": [
    "6) Dada la siguiente lista de números enteros entre 1 y 20, crear un ciclo donde se completen los valores faltantes: lista = [1,2,5,7,8,10,13,14,15,17,20]"
   ]
  },
  {
   "cell_type": "code",
   "execution_count": 14,
   "metadata": {},
   "outputs": [
    {
     "name": "stdout",
     "output_type": "stream",
     "text": [
      "[1, 2, 3, 4, 5, 6, 7, 8, 9, 10, 11, 12, 13, 14, 15, 16, 17, 18, 19, 20]\n"
     ]
    }
   ],
   "source": [
    "lista_6 = [1,2,5,7,8,10,13,14,15,17,20]\n",
    "largo = 19 # [1,2,3,4,5,6,7,8,9,10,11,12,13,14,15,16,17,18,19,20] 20-1=19 para iteraciones del ciclo for\n",
    "for i in range(largo):\n",
    "    numero = lista_6[i]\n",
    "    siguiente = numero + 1\n",
    "    if (numero + 1 == lista_6[numero]):\n",
    "        continue\n",
    "    else:\n",
    "        lista_6.insert(numero,siguiente)\n",
    "print(lista_6)\n",
    "\n",
    "        "
   ]
  },
  {
   "attachments": {},
   "cell_type": "markdown",
   "metadata": {},
   "source": [
    "7) La sucesión de Fibonacci es un listado de números que sigue la fórmula: <br>\n",
    "n<sub>0</sub> = 0<br>\n",
    "n<sub>1</sub> = 1<br>\n",
    "n<sub>i</sub> = n<sub>i-1</sub> + n<sub>i-2</sub><br>\n",
    "Crear una lista con los primeros treinta números de la sucesión.<br>"
   ]
  },
  {
   "cell_type": "code",
   "execution_count": 1,
   "metadata": {},
   "outputs": [
    {
     "name": "stdout",
     "output_type": "stream",
     "text": [
      "[0, 1, 1, 2, 3, 5, 8, 13, 21, 34, 55, 89, 144, 233, 377, 610, 987, 1597, 2584, 4181, 6765, 10946, 17711, 28657, 46368, 75025, 121393, 196418, 317811]\n"
     ]
    }
   ],
   "source": [
    "cantidad = 29\n",
    "lista_fibonacci = []\n",
    "for i in range(cantidad):\n",
    "\n",
    "    if i == 0 or i == 1:\n",
    "        lista_fibonacci.insert(i,i)\n",
    "        continue\n",
    "    else:\n",
    "        numero = (lista_fibonacci[i-1] + lista_fibonacci[i-2])\n",
    "        lista_fibonacci.insert(i, numero)\n",
    "print(lista_fibonacci)\n"
   ]
  },
  {
   "attachments": {},
   "cell_type": "markdown",
   "metadata": {},
   "source": [
    "8) Realizar la suma de todos elementos de la lista del punto anterior"
   ]
  },
  {
   "cell_type": "code",
   "execution_count": 16,
   "metadata": {},
   "outputs": [
    {
     "name": "stdout",
     "output_type": "stream",
     "text": [
      "La suma de todos los numeros de la lista de Fibonacci es:  832039\n"
     ]
    }
   ],
   "source": [
    "suma_fibonacci = 0\n",
    "for i in range(cantidad):\n",
    "    suma_fibonacci = suma_fibonacci + lista_fibonacci[i]\n",
    "print(\"La suma de todos los numeros de la lista de Fibonacci es: \", suma_fibonacci)\n"
   ]
  },
  {
   "attachments": {},
   "cell_type": "markdown",
   "metadata": {},
   "source": [
    "9) La proporción aurea se expresa con una proporción matemática que nace el número irracional Phi= 1,618… que los griegos llamaron número áureo. El cuál se puede aproximar con la sucesión de Fibonacci. Con la lista del ejercicio anterior, imprimir el cociente de los últimos 5 pares de dos números contiguos:<br>\n",
    "Donde i es la cantidad total de elementos<br>\n",
    "n<sub>i-1</sub> / n<sub>i</sub><br>\n",
    "n<sub>i-2</sub> / n<sub>i-1</sub><br>\n",
    "n<sub>i-3</sub> / n<sub>i-2</sub><br>\n",
    "n<sub>i-4</sub> / n<sub>i-3</sub><br>\n",
    "n<sub>i-5</sub> / n<sub>i-4</sub><br>\n",
    " "
   ]
  },
  {
   "cell_type": "code",
   "execution_count": 10,
   "metadata": {},
   "outputs": [
    {
     "name": "stdout",
     "output_type": "stream",
     "text": [
      "1 =  1.618033988738303\n",
      "2 =  1.6180339887802426\n",
      "3 =  1.6180339886704431\n",
      "4 =  1.618033988957902\n",
      "5 =  1.618033988205325\n"
     ]
    }
   ],
   "source": [
    "cant = 5\n",
    "n = 0\n",
    "i = 28\n",
    "while n < cant:\n",
    "    operacion = (lista_fibonacci[i] / lista_fibonacci[i - 1])\n",
    "    print(n + 1 , \"= \", operacion)\n",
    "    n = n + 1\n",
    "    i = i - 1\n"
   ]
  },
  {
   "attachments": {},
   "cell_type": "markdown",
   "metadata": {},
   "source": [
    "10) A partir de la variable cadena ya dada, mostrar en qué posiciones aparece la letra \"n\"<br>\n",
    "cadena = 'Hola Mundo. Esto es una practica del lenguaje de programación Python'"
   ]
  },
  {
   "cell_type": "code",
   "execution_count": 1,
   "metadata": {},
   "outputs": [
    {
     "name": "stdout",
     "output_type": "stream",
     "text": [
      "n posicion:  8\n",
      "n posicion:  22\n",
      "n posicion:  40\n",
      "n posicion:  61\n",
      "n posicion:  68\n"
     ]
    }
   ],
   "source": [
    "cadena = \"Hola Mundo. Esto es una practica del lenguaje de programación python\"\n",
    "for i in range(len(cadena)):\n",
    "    if (cadena[i] == \"n\"):\n",
    "        print(cadena[i], \"posicion: \", (i + 1))\n",
    "    else:\n",
    "        None"
   ]
  },
  {
   "attachments": {},
   "cell_type": "markdown",
   "metadata": {},
   "source": [
    "11) Crear un diccionario e imprimir sus claves utilizando un iterador"
   ]
  },
  {
   "cell_type": "code",
   "execution_count": 6,
   "metadata": {},
   "outputs": [
    {
     "name": "stdout",
     "output_type": "stream",
     "text": [
      "Ciudad\n",
      "Pais\n",
      "Continente\n"
     ]
    }
   ],
   "source": [
    "diccionario = {\n",
    "    \"Ciudad\":[\"Lujan\",\"Santiago\",\"Montevideo\",\"La Paz\",\"Lima\"],\n",
    "    \"Pais\":[\"Argentina\",\"Chile\",\"Uruguay\",\"Bolivia\",\"Peru\"],\n",
    "    \"Continente\":[\"America\",\"America\",\"America\",\"America\",\"America\"]}\n",
    "type(diccionario)\n",
    "for i in diccionario:\n",
    "    print(i)"
   ]
  },
  {
   "attachments": {},
   "cell_type": "markdown",
   "metadata": {},
   "source": [
    "12) Convertir en una lista la variable \"cadena\" del punto 10 y luego recorrerla con un iterador "
   ]
  },
  {
   "cell_type": "code",
   "execution_count": 11,
   "metadata": {},
   "outputs": [
    {
     "name": "stdout",
     "output_type": "stream",
     "text": [
      "0 :  H\n",
      "1 :  o\n",
      "2 :  l\n",
      "3 :  a\n",
      "4 :   \n",
      "5 :  M\n",
      "6 :  u\n",
      "7 :  n\n",
      "8 :  d\n",
      "9 :  o\n",
      "10 :  .\n",
      "11 :   \n",
      "12 :  E\n",
      "13 :  s\n",
      "14 :  t\n",
      "15 :  o\n",
      "16 :   \n",
      "17 :  e\n",
      "18 :  s\n",
      "19 :   \n",
      "20 :  u\n",
      "21 :  n\n",
      "22 :  a\n",
      "23 :   \n",
      "24 :  p\n",
      "25 :  r\n",
      "26 :  a\n",
      "27 :  c\n",
      "28 :  t\n",
      "29 :  i\n",
      "30 :  c\n",
      "31 :  a\n",
      "32 :   \n",
      "33 :  d\n",
      "34 :  e\n",
      "35 :  l\n",
      "36 :   \n",
      "37 :  l\n",
      "38 :  e\n",
      "39 :  n\n",
      "40 :  g\n",
      "41 :  u\n",
      "42 :  a\n",
      "43 :  j\n",
      "44 :  e\n",
      "45 :   \n",
      "46 :  d\n",
      "47 :  e\n",
      "48 :   \n",
      "49 :  p\n",
      "50 :  r\n",
      "51 :  o\n",
      "52 :  g\n",
      "53 :  r\n",
      "54 :  a\n",
      "55 :  m\n",
      "56 :  a\n",
      "57 :  c\n",
      "58 :  i\n",
      "59 :  ó\n",
      "60 :  n\n",
      "61 :   \n",
      "62 :  p\n",
      "63 :  y\n",
      "64 :  t\n",
      "65 :  h\n",
      "66 :  o\n",
      "67 :  n\n"
     ]
    }
   ],
   "source": [
    "cadena_lista = list(cadena)\n",
    "type(cadena_lista)\n",
    "for i in range(len(cadena_lista)):\n",
    "    print(i,\": \",cadena_lista[i])"
   ]
  },
  {
   "attachments": {},
   "cell_type": "markdown",
   "metadata": {},
   "source": [
    "13) Crear dos listas y unirlas en una tupla utilizando la función zip"
   ]
  },
  {
   "cell_type": "code",
   "execution_count": 20,
   "metadata": {},
   "outputs": [
    {
     "name": "stdout",
     "output_type": "stream",
     "text": [
      "[(1, 'uno'), (2, 'dos'), (3, 'tres'), (4, 'cuatro'), (5, 'cinco')]\n"
     ]
    }
   ],
   "source": [
    "lista_13_1 = [1,2,3,4,5]\n",
    "lista_13_2 = [\"uno\",\"dos\",\"tres\",\"cuatro\",\"cinco\"]\n",
    "unir_listas = ()\n",
    "unir_listas = zip(lista_13_1,lista_13_2)\n",
    "print(list(unir_listas))"
   ]
  },
  {
   "attachments": {},
   "cell_type": "markdown",
   "metadata": {},
   "source": [
    "14) A partir de la siguiente lista de números, crear una nueva sólo si el número es divisible por 7<br>\n",
    "lis = [18,21,29,32,35,42,56,60,63,71,84,90,91,100]"
   ]
  },
  {
   "cell_type": "code",
   "execution_count": 22,
   "metadata": {},
   "outputs": [
    {
     "name": "stdout",
     "output_type": "stream",
     "text": [
      "[21, 35, 42, 56, 63, 84, 91]\n"
     ]
    }
   ],
   "source": [
    "lista_14 = [18,21,29,32,35,42,56,60,63,71,84,90,91,100]\n",
    "num = 7\n",
    "nueva_lista_14 = []\n",
    "for i in range(len(lista_14)):\n",
    "    if (lista_14[i] % num == 0):\n",
    "        nueva_lista_14.append(lista_14[i])\n",
    "    else:\n",
    "        None\n",
    "print(nueva_lista_14)"
   ]
  },
  {
   "attachments": {},
   "cell_type": "markdown",
   "metadata": {},
   "source": [
    "15) A partir de la lista de a continuación, contar la cantidad total de elementos que contiene, teniendo en cuenta que un elemento de la lista podría ser otra lista:<br>\n",
    "lis = [[1,2,3,4],'rojo','verde',[True,False,False],['uno','dos','tres']]"
   ]
  },
  {
   "cell_type": "code",
   "execution_count": 27,
   "metadata": {},
   "outputs": [
    {
     "name": "stdout",
     "output_type": "stream",
     "text": [
      "En total hay  15  elementos en la lista.\n"
     ]
    }
   ],
   "source": [
    "lista_15 = [[1,2,3,4],\"rojo\",\"verde\",[True,False,False],[\"uno\",\"dos\",\"tres\"]]\n",
    "contar = 0\n",
    "for i in range(len(lista_15)):\n",
    "    if (type(lista_15[i]) == list):\n",
    "        contar = contar + 1\n",
    "        for j in range(len(lista_15[i])):\n",
    "            contar = contar + 1\n",
    "    else:\n",
    "        contar = contar + 1\n",
    "print(\"En total hay \",contar,\" elementos en la lista.\")"
   ]
  },
  {
   "attachments": {},
   "cell_type": "markdown",
   "metadata": {},
   "source": [
    "16) Tomar la lista del punto anterior y convertir cada elemento en una lista si no lo es"
   ]
  },
  {
   "cell_type": "code",
   "execution_count": 31,
   "metadata": {},
   "outputs": [
    {
     "name": "stdout",
     "output_type": "stream",
     "text": [
      "[[1, 2, 3, 4], ['rojo'], ['verde'], [True, False, False], ['uno', 'dos', 'tres']]\n"
     ]
    }
   ],
   "source": [
    "lista_16 = [[1,2,3,4],\"rojo\",\"verde\",[True,False,False],[\"uno\",\"dos\",\"tres\"]]\n",
    "for i in range(len(lista_16)):\n",
    "    if (type(lista_16[i]) != list):\n",
    "        lista_16[i] = [lista_16[i]]\n",
    "    else:\n",
    "        None\n",
    "print(lista_16)"
   ]
  }
 ],
 "metadata": {
  "interpreter": {
   "hash": "c85384e4cb51c8b72350f3a8712cc8351fdc3955e32a27f9b60c6242ab125f01"
  },
  "kernelspec": {
   "display_name": "Python 3 (ipykernel)",
   "language": "python",
   "name": "python3"
  },
  "language_info": {
   "codemirror_mode": {
    "name": "ipython",
    "version": 3
   },
   "file_extension": ".py",
   "mimetype": "text/x-python",
   "name": "python",
   "nbconvert_exporter": "python",
   "pygments_lexer": "ipython3",
   "version": "3.12.2"
  }
 },
 "nbformat": 4,
 "nbformat_minor": 4
}
