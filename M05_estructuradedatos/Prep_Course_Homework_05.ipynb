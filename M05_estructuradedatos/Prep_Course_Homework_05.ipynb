{
 "cells": [
  {
   "attachments": {},
   "cell_type": "markdown",
   "metadata": {},
   "source": [
    "## Estructuras de Datos"
   ]
  },
  {
   "attachments": {},
   "cell_type": "markdown",
   "metadata": {},
   "source": [
    "1) Crear una lista que contenga nombres de ciudades del mundo que contenga más de 5 elementos e imprimir por pantalla"
   ]
  },
  {
   "cell_type": "code",
   "execution_count": 4,
   "metadata": {},
   "outputs": [
    {
     "name": "stdout",
     "output_type": "stream",
     "text": [
      "['Buenos Aires', 'Londres', 'Roma', 'Paris', 'Montevideo', 'Madrid']\n"
     ]
    }
   ],
   "source": [
    "lista_1 = [\"Buenos Aires\",\"Londres\",\"Roma\",\"Paris\",\"Montevideo\",\"Madrid\"]\n",
    "print(lista_1)"
   ]
  },
  {
   "attachments": {},
   "cell_type": "markdown",
   "metadata": {},
   "source": [
    "2) Imprimir por pantalla el segundo elemento de la lista"
   ]
  },
  {
   "cell_type": "code",
   "execution_count": 4,
   "metadata": {},
   "outputs": [
    {
     "name": "stdout",
     "output_type": "stream",
     "text": [
      "Londres\n"
     ]
    }
   ],
   "source": [
    "segundo_lista_1 = lista_1[1]\n",
    "print(segundo_lista_1)"
   ]
  },
  {
   "attachments": {},
   "cell_type": "markdown",
   "metadata": {},
   "source": [
    "3) Imprimir por pantalla del segundo al cuarto elemento"
   ]
  },
  {
   "cell_type": "code",
   "execution_count": 8,
   "metadata": {},
   "outputs": [
    {
     "name": "stdout",
     "output_type": "stream",
     "text": [
      "['Londres', 'Roma', 'Paris']\n"
     ]
    }
   ],
   "source": [
    "print(lista_1[1:4])"
   ]
  },
  {
   "attachments": {},
   "cell_type": "markdown",
   "metadata": {},
   "source": [
    "4) Visualizar el tipo de dato de la lista"
   ]
  },
  {
   "cell_type": "code",
   "execution_count": 13,
   "metadata": {},
   "outputs": [
    {
     "name": "stdout",
     "output_type": "stream",
     "text": [
      "<class 'str'>\n"
     ]
    }
   ],
   "source": [
    "tipo_dato = type(lista_1[0])\n",
    "print(tipo_dato)"
   ]
  },
  {
   "attachments": {},
   "cell_type": "markdown",
   "metadata": {},
   "source": [
    "5) Visualizar todos los elementos de la lista a partir del tercero de manera genérica, es decir, sin explicitar la posición del último elemento"
   ]
  },
  {
   "cell_type": "code",
   "execution_count": 14,
   "metadata": {},
   "outputs": [
    {
     "name": "stdout",
     "output_type": "stream",
     "text": [
      "['Montevideo', 'Madrid']\n"
     ]
    }
   ],
   "source": [
    "print(lista_1[4:])"
   ]
  },
  {
   "attachments": {},
   "cell_type": "markdown",
   "metadata": {},
   "source": [
    "6) Visualizar los primeros 4 elementos de la lista"
   ]
  },
  {
   "cell_type": "code",
   "execution_count": 16,
   "metadata": {},
   "outputs": [
    {
     "name": "stdout",
     "output_type": "stream",
     "text": [
      "['Buenos Aires', 'Londres', 'Roma', 'Paris']\n"
     ]
    }
   ],
   "source": [
    "print(lista_1[:4])"
   ]
  },
  {
   "attachments": {},
   "cell_type": "markdown",
   "metadata": {},
   "source": [
    "7) Agregar una ciudad más a la lista que ya exista y otra que no ¿Arroja algún tipo de error?"
   ]
  },
  {
   "cell_type": "code",
   "execution_count": 18,
   "metadata": {},
   "outputs": [
    {
     "name": "stdout",
     "output_type": "stream",
     "text": [
      "['Buenos Aires', 'Londres', 'Roma', 'Paris', 'Montevideo', 'Madrid', 'Barcelona', 'Paris']\n"
     ]
    }
   ],
   "source": [
    "lista_1.append(\"Barcelona\")\n",
    "lista_1.append(\"Paris\")\n",
    "print(lista_1)"
   ]
  },
  {
   "attachments": {},
   "cell_type": "markdown",
   "metadata": {},
   "source": [
    "8) Agregar otra ciudad, pero en la cuarta posición"
   ]
  },
  {
   "cell_type": "code",
   "execution_count": 21,
   "metadata": {},
   "outputs": [
    {
     "name": "stdout",
     "output_type": "stream",
     "text": [
      "['Buenos Aires', 'Londres', 'Roma', 'Bariloche', 'Paris', 'Montevideo', 'Madrid', 'Barcelona', 'Paris']\n"
     ]
    }
   ],
   "source": [
    "lista_1.insert(3,\"Bariloche\")\n",
    "print(lista_1)\n"
   ]
  },
  {
   "attachments": {},
   "cell_type": "markdown",
   "metadata": {},
   "source": [
    "9) Concatenar otra lista a la ya creada"
   ]
  },
  {
   "cell_type": "code",
   "execution_count": 22,
   "metadata": {},
   "outputs": [
    {
     "name": "stdout",
     "output_type": "stream",
     "text": [
      "['Buenos Aires', 'Londres', 'Roma', 'Bariloche', 'Paris', 'Montevideo', 'Madrid', 'Barcelona', 'Paris', 'Sevilla', 'San Martin', 'Mar del Plata', 'Pinamar']\n"
     ]
    }
   ],
   "source": [
    "nueva_lista = [\"Sevilla\",\"San Martin\",\"Mar del Plata\",\"Pinamar\"]\n",
    "lista_1.extend(nueva_lista)\n",
    "print(lista_1)"
   ]
  },
  {
   "attachments": {},
   "cell_type": "markdown",
   "metadata": {},
   "source": [
    "10) Encontrar el índice de la ciudad que en el punto 7 agregamos duplicada. ¿Se nota alguna particularidad?"
   ]
  },
  {
   "cell_type": "code",
   "execution_count": 23,
   "metadata": {},
   "outputs": [
    {
     "data": {
      "text/plain": [
       "4"
      ]
     },
     "execution_count": 23,
     "metadata": {},
     "output_type": "execute_result"
    }
   ],
   "source": [
    "lista_1.index(\"Paris\")\n",
    "# La particularidad es que devuelve la primera posicion encontrada de la ciudad repetida."
   ]
  },
  {
   "attachments": {},
   "cell_type": "markdown",
   "metadata": {},
   "source": [
    "11) ¿Qué pasa si se busca un elemento que no existe?"
   ]
  },
  {
   "cell_type": "code",
   "execution_count": 24,
   "metadata": {},
   "outputs": [
    {
     "ename": "ValueError",
     "evalue": "'Monaco' is not in list",
     "output_type": "error",
     "traceback": [
      "\u001b[1;31m---------------------------------------------------------------------------\u001b[0m",
      "\u001b[1;31mValueError\u001b[0m                                Traceback (most recent call last)",
      "Cell \u001b[1;32mIn[24], line 1\u001b[0m\n\u001b[1;32m----> 1\u001b[0m \u001b[43mlista_1\u001b[49m\u001b[38;5;241;43m.\u001b[39;49m\u001b[43mindex\u001b[49m\u001b[43m(\u001b[49m\u001b[38;5;124;43m\"\u001b[39;49m\u001b[38;5;124;43mMonaco\u001b[39;49m\u001b[38;5;124;43m\"\u001b[39;49m\u001b[43m)\u001b[49m\n",
      "\u001b[1;31mValueError\u001b[0m: 'Monaco' is not in list"
     ]
    }
   ],
   "source": [
    "lista_1.index(\"Monaco\")\n",
    "# Devuelve un mensaje de error indicando que la palabra no existe en la lista"
   ]
  },
  {
   "attachments": {},
   "cell_type": "markdown",
   "metadata": {},
   "source": [
    "12) Eliminar un elemento de la lista"
   ]
  },
  {
   "cell_type": "code",
   "execution_count": 26,
   "metadata": {},
   "outputs": [
    {
     "name": "stdout",
     "output_type": "stream",
     "text": [
      "['Buenos Aires', 'Londres', 'Roma', 'Bariloche', 'Montevideo', 'Madrid', 'Barcelona', 'Paris', 'Sevilla', 'San Martin', 'Mar del Plata', 'Pinamar']\n"
     ]
    }
   ],
   "source": [
    "lista_1.remove(\"Paris\")\n",
    "print(lista_1)"
   ]
  },
  {
   "attachments": {},
   "cell_type": "markdown",
   "metadata": {},
   "source": [
    "13) ¿Qué pasa si el elemento a eliminar no existe?"
   ]
  },
  {
   "cell_type": "code",
   "execution_count": 27,
   "metadata": {},
   "outputs": [
    {
     "ename": "ValueError",
     "evalue": "list.remove(x): x not in list",
     "output_type": "error",
     "traceback": [
      "\u001b[1;31m---------------------------------------------------------------------------\u001b[0m",
      "\u001b[1;31mValueError\u001b[0m                                Traceback (most recent call last)",
      "Cell \u001b[1;32mIn[27], line 1\u001b[0m\n\u001b[1;32m----> 1\u001b[0m \u001b[43mlista_1\u001b[49m\u001b[38;5;241;43m.\u001b[39;49m\u001b[43mremove\u001b[49m\u001b[43m(\u001b[49m\u001b[38;5;124;43m\"\u001b[39;49m\u001b[38;5;124;43mMonaco\u001b[39;49m\u001b[38;5;124;43m\"\u001b[39;49m\u001b[43m)\u001b[49m\n",
      "\u001b[1;31mValueError\u001b[0m: list.remove(x): x not in list"
     ]
    }
   ],
   "source": [
    "lista_1.remove(\"Monaco\")\n",
    "# Devuelve un mensaje de error que la palabra no existe en la lista."
   ]
  },
  {
   "attachments": {},
   "cell_type": "markdown",
   "metadata": {},
   "source": [
    "14) Extraer el úlimo elemento de la lista, guardarlo en una variable e imprimirlo"
   ]
  },
  {
   "cell_type": "code",
   "execution_count": 30,
   "metadata": {},
   "outputs": [
    {
     "name": "stdout",
     "output_type": "stream",
     "text": [
      "Pinamar\n"
     ]
    }
   ],
   "source": [
    "ultimo = lista_1[len(lista_1) - 1]\n",
    "print(ultimo)"
   ]
  },
  {
   "attachments": {},
   "cell_type": "markdown",
   "metadata": {},
   "source": [
    "15) Mostrar la lista multiplicada por 4"
   ]
  },
  {
   "cell_type": "code",
   "execution_count": 31,
   "metadata": {},
   "outputs": [
    {
     "name": "stdout",
     "output_type": "stream",
     "text": [
      "['Buenos Aires', 'Londres', 'Roma', 'Bariloche', 'Montevideo', 'Madrid', 'Barcelona', 'Paris', 'Sevilla', 'San Martin', 'Mar del Plata', 'Pinamar', 'Buenos Aires', 'Londres', 'Roma', 'Bariloche', 'Montevideo', 'Madrid', 'Barcelona', 'Paris', 'Sevilla', 'San Martin', 'Mar del Plata', 'Pinamar', 'Buenos Aires', 'Londres', 'Roma', 'Bariloche', 'Montevideo', 'Madrid', 'Barcelona', 'Paris', 'Sevilla', 'San Martin', 'Mar del Plata', 'Pinamar', 'Buenos Aires', 'Londres', 'Roma', 'Bariloche', 'Montevideo', 'Madrid', 'Barcelona', 'Paris', 'Sevilla', 'San Martin', 'Mar del Plata', 'Pinamar']\n"
     ]
    }
   ],
   "source": [
    "print(lista_1 * 4)"
   ]
  },
  {
   "attachments": {},
   "cell_type": "markdown",
   "metadata": {},
   "source": [
    "16) Crear una tupla que contenga los números enteros del 1 al 20"
   ]
  },
  {
   "cell_type": "code",
   "execution_count": 16,
   "metadata": {},
   "outputs": [
    {
     "name": "stdout",
     "output_type": "stream",
     "text": [
      "<class 'tuple'>\n"
     ]
    }
   ],
   "source": [
    "tupla_1 = (1,2,3,4,5,6,7,8,9,10,11,12,13,14,15,16,17,18,19,20)\n",
    "print(type(tupla_1))"
   ]
  },
  {
   "attachments": {},
   "cell_type": "markdown",
   "metadata": {},
   "source": [
    "17) Imprimir desde el índice 10 al 15 de la tupla"
   ]
  },
  {
   "cell_type": "code",
   "execution_count": 34,
   "metadata": {},
   "outputs": [
    {
     "name": "stdout",
     "output_type": "stream",
     "text": [
      "(10, 11, 12, 13, 14, 15)\n"
     ]
    }
   ],
   "source": [
    "print(tupla_1[9:15])"
   ]
  },
  {
   "attachments": {},
   "cell_type": "markdown",
   "metadata": {},
   "source": [
    "18) Evaluar si los números 20 y 30 están dentro de la tupla"
   ]
  },
  {
   "cell_type": "code",
   "execution_count": 36,
   "metadata": {},
   "outputs": [
    {
     "data": {
      "text/plain": [
       "19"
      ]
     },
     "execution_count": 36,
     "metadata": {},
     "output_type": "execute_result"
    }
   ],
   "source": [
    "tupla_1.index(20)\n",
    "tupla_1.index(30)  # Devuelve un mensaje de error que el elemento a buscar no existe en la tupla."
   ]
  },
  {
   "attachments": {},
   "cell_type": "markdown",
   "metadata": {},
   "source": [
    "19) Con la lista creada en el punto 1, validar la existencia del elemento 'París' y si no existe, agregarlo. Utilizar una variable e informar lo sucedido."
   ]
  },
  {
   "cell_type": "code",
   "execution_count": 10,
   "metadata": {},
   "outputs": [
    {
     "name": "stdout",
     "output_type": "stream",
     "text": [
      "Se agrego nueva ciudad a la lista.\n",
      "['Buenos Aires', 'Londres', 'Roma', 'Montevideo', 'Madrid', 'Paris']\n"
     ]
    }
   ],
   "source": [
    "lista_1.remove(\"Paris\")\n",
    "nueva_ciudad = \"Paris\"\n",
    "if (not (nueva_ciudad in lista_1)):\n",
    "    lista_1.append(nueva_ciudad)\n",
    "    mensaje = \"Se agrego nueva ciudad a la lista.\"\n",
    "else:\n",
    "    mensaje = \"La ciudad ya existe, no se agrego a la lista.\"\n",
    "print(mensaje)\n",
    "print(lista_1)\n"
   ]
  },
  {
   "attachments": {},
   "cell_type": "markdown",
   "metadata": {},
   "source": [
    "20) Mostrar la cantidad de veces que se encuentra un elemento específico dentro de la tupla y de la lista"
   ]
  },
  {
   "cell_type": "code",
   "execution_count": 17,
   "metadata": {},
   "outputs": [
    {
     "name": "stdout",
     "output_type": "stream",
     "text": [
      "Paris  aparece  3  en la lista.\n",
      "3  aparece  1  en la tupla.\n"
     ]
    }
   ],
   "source": [
    "#tupla_1.append(\"Paris\")\n",
    "contar_l = \"Paris\"\n",
    "contar_t = 3\n",
    "contar_lista = lista_1.count(contar_l)\n",
    "contar_tupla = tupla_1.count(contar_t)\n",
    "print(contar_l,\" aparece \", contar_lista, \" en la lista.\")\n",
    "print(contar_t,\" aparece \", contar_tupla, \" en la tupla.\")"
   ]
  },
  {
   "attachments": {},
   "cell_type": "markdown",
   "metadata": {},
   "source": [
    "21) Convertir la tupla en una lista"
   ]
  },
  {
   "cell_type": "code",
   "execution_count": 19,
   "metadata": {},
   "outputs": [
    {
     "name": "stdout",
     "output_type": "stream",
     "text": [
      "<class 'list'>\n"
     ]
    }
   ],
   "source": [
    "tupla_lista = list(tupla_1)\n",
    "print(type(tupla_lista))"
   ]
  },
  {
   "attachments": {},
   "cell_type": "markdown",
   "metadata": {},
   "source": [
    "22) Desempaquetar solo los primeros 3 elementos de la tupla en 3 variables"
   ]
  },
  {
   "cell_type": "code",
   "execution_count": 20,
   "metadata": {},
   "outputs": [
    {
     "name": "stdout",
     "output_type": "stream",
     "text": [
      "1 2 3\n"
     ]
    }
   ],
   "source": [
    "primero, segundo, tercero = tupla_1[0:3]\n",
    "print(primero, segundo, tercero)\n"
   ]
  },
  {
   "attachments": {},
   "cell_type": "markdown",
   "metadata": {},
   "source": [
    "23) Crear un diccionario utilizando la lista crada en el punto 1, asignandole la clave \"ciudad\". Agregar tambien otras claves, como puede ser \"Pais\" y \"Continente\"."
   ]
  },
  {
   "cell_type": "code",
   "execution_count": 21,
   "metadata": {},
   "outputs": [
    {
     "name": "stdout",
     "output_type": "stream",
     "text": [
      "{'Ciudad': ['Buenos Aires', 'Londres', 'Roma', 'Montevideo', 'Madrid', 'Paris', 'Paris', 'Paris'], 'Pais': ['Argentina', 'Italia', 'Inglaterra', 'Francia', 'Alemania', 'Brasil'], 'Continente': ['America', 'Europa', 'Africa', 'Asia']}\n",
      "<class 'dict'>\n"
     ]
    }
   ],
   "source": [
    "mi_diccionario = {\"Ciudad\" : lista_1, \"Pais\" : [\"Argentina\", \"Italia\", \"Inglaterra\",\"Francia\",\"Alemania\",\"Brasil\"], \"Continente\": [\"America\", \"Europa\",\"Africa\",\"Asia\"]}\n",
    "print(mi_diccionario)\n",
    "print(type(mi_diccionario))"
   ]
  },
  {
   "attachments": {},
   "cell_type": "markdown",
   "metadata": {},
   "source": [
    "24) Imprimir las claves del diccionario"
   ]
  },
  {
   "cell_type": "code",
   "execution_count": 25,
   "metadata": {},
   "outputs": [
    {
     "name": "stdout",
     "output_type": "stream",
     "text": [
      "dict_keys(['Ciudad', 'Pais', 'Continente'])\n"
     ]
    }
   ],
   "source": [
    "print(mi_diccionario.keys())"
   ]
  },
  {
   "attachments": {},
   "cell_type": "markdown",
   "metadata": {},
   "source": [
    "25) Imprimir las ciudades a través de su clave"
   ]
  },
  {
   "cell_type": "code",
   "execution_count": 30,
   "metadata": {},
   "outputs": [
    {
     "name": "stdout",
     "output_type": "stream",
     "text": [
      "['Buenos Aires', 'Londres', 'Roma', 'Montevideo', 'Madrid', 'Paris', 'Paris', 'Paris']\n"
     ]
    }
   ],
   "source": [
    "print(mi_diccionario[\"Ciudad\"])"
   ]
  }
 ],
 "metadata": {
  "interpreter": {
   "hash": "c85384e4cb51c8b72350f3a8712cc8351fdc3955e32a27f9b60c6242ab125f01"
  },
  "kernelspec": {
   "display_name": "Python 3 (ipykernel)",
   "language": "python",
   "name": "python3"
  },
  "language_info": {
   "codemirror_mode": {
    "name": "ipython",
    "version": 3
   },
   "file_extension": ".py",
   "mimetype": "text/x-python",
   "name": "python",
   "nbconvert_exporter": "python",
   "pygments_lexer": "ipython3",
   "version": "3.12.2"
  }
 },
 "nbformat": 4,
 "nbformat_minor": 4
}
